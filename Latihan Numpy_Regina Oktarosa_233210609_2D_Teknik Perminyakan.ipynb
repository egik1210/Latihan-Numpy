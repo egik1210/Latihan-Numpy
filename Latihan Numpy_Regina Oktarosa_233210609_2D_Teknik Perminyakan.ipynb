{
 "cells": [
  {
   "cell_type": "markdown",
   "metadata": {},
   "source": [
    "## LATIHAN\n",
    "\n",
    "Diketahui Array :[12 10 04] Tanggal Lahir\n",
    "\n",
    "                 [74 23 91]  Digit No Hp\n",
    "\n",
    "Lakukanlah Operasi:\n",
    "                "
   ]
  },
  {
   "cell_type": "markdown",
   "metadata": {},
   "source": [
    "1. Perkalian Matrix"
   ]
  },
  {
   "cell_type": "code",
   "execution_count": 11,
   "metadata": {},
   "outputs": [
    {
     "name": "stdout",
     "output_type": "stream",
     "text": [
      "[[7 8]\n",
      " [2 0]\n",
      " [0 4]]\n"
     ]
    }
   ],
   "source": [
    "# TTL   : 12 oktober 2004\n",
    "# No Hp : 081292742391\n",
    "\n",
    "import numpy as np\n",
    "\n",
    "A = np.array([[1,2],[1,0],[0,4]])\n",
    "B = np.array([[7,4],[2,3],[9,1]])\n",
    "\n",
    "kali = A * B\n",
    "print(kali)"
   ]
  },
  {
   "cell_type": "markdown",
   "metadata": {},
   "source": [
    "2. Pengurangan Matrix"
   ]
  },
  {
   "cell_type": "code",
   "execution_count": 10,
   "metadata": {},
   "outputs": [
    {
     "name": "stdout",
     "output_type": "stream",
     "text": [
      "[[-6 -2]\n",
      " [-1 -3]\n",
      " [-9  3]]\n"
     ]
    }
   ],
   "source": [
    "import numpy as np\n",
    "\n",
    "A = np.array([[1,2],[1,0],[0,4]])\n",
    "B = np.array([[7,4],[2,3],[9,1]])\n",
    "\n",
    "kurang = A - B\n",
    "print(kurang)"
   ]
  },
  {
   "cell_type": "markdown",
   "metadata": {},
   "source": [
    "3. Transpose Matrix"
   ]
  },
  {
   "cell_type": "code",
   "execution_count": 9,
   "metadata": {},
   "outputs": [
    {
     "name": "stdout",
     "output_type": "stream",
     "text": [
      "[[1 1 0]\n",
      " [2 0 4]]\n",
      "[[7 2 9]\n",
      " [4 3 1]]\n"
     ]
    }
   ],
   "source": [
    "import numpy as np\n",
    "\n",
    "A = np.array([[1,2],[1,0],[0,4]])\n",
    "B = np.array([[7,4],[2,3],[9,1]])\n",
    "\n",
    "transpose_A = np.transpose(A)\n",
    "transpose_B = np.transpose(B)\n",
    "\n",
    "print(transpose_A)\n",
    "print(transpose_B)"
   ]
  },
  {
   "cell_type": "markdown",
   "metadata": {},
   "source": [
    "4. Nilai Invers"
   ]
  },
  {
   "cell_type": "code",
   "execution_count": 5,
   "metadata": {},
   "outputs": [
    {
     "name": "stdout",
     "output_type": "stream",
     "text": [
      "\n",
      "Invers matrix A :\n",
      "\n",
      "Invers matrix B :\n",
      "[[ 0.   1. ]\n",
      " [ 0.5 -0.5]]\n",
      "[[ 0.23076923 -0.30769231]\n",
      " [-0.15384615  0.53846154]]\n"
     ]
    }
   ],
   "source": [
    "import numpy as np\n",
    "\n",
    "A = np.array([[1,2],[1,0]])\n",
    "B = np.array([[7,4],[2,3]])\n",
    "\n",
    "\n",
    "invers_A = np.linalg.inv(A)\n",
    "invers_B = np.linalg.inv(B)\n",
    "\n",
    "print(\"\\nInvers matrix A :\")\n",
    "print(\"\\nInvers matrix B :\")\n",
    "print(invers_A)\n",
    "print(invers_B)\n"
   ]
  },
  {
   "cell_type": "markdown",
   "metadata": {},
   "source": [
    "5. Nilai Determinan"
   ]
  },
  {
   "cell_type": "code",
   "execution_count": 4,
   "metadata": {},
   "outputs": [
    {
     "name": "stdout",
     "output_type": "stream",
     "text": [
      "Determinan dari matrix A: -2.0\n",
      "Determinan dari matrix B: 13.0\n"
     ]
    }
   ],
   "source": [
    "import numpy as np\n",
    "\n",
    "A = np.array([[1,2],[1,0]])\n",
    "B = np.array([[7,4],[2,3]])\n",
    "\n",
    "determinant_A = np.linalg.det(A)\n",
    "determinant_B = np.linalg.det(B)\n",
    "print(\"Determinan dari matrix A:\", determinant_A)\n",
    "print(\"Determinan dari matrix B:\", determinant_B)"
   ]
  }
 ],
 "metadata": {
  "kernelspec": {
   "display_name": "Python 3",
   "language": "python",
   "name": "python3"
  },
  "language_info": {
   "codemirror_mode": {
    "name": "ipython",
    "version": 3
   },
   "file_extension": ".py",
   "mimetype": "text/x-python",
   "name": "python",
   "nbconvert_exporter": "python",
   "pygments_lexer": "ipython3",
   "version": "3.11.5"
  }
 },
 "nbformat": 4,
 "nbformat_minor": 2
}
